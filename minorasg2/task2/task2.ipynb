{
 "cells": [
  {
   "cell_type": "markdown",
   "id": "ec89e028",
   "metadata": {},
   "source": [
    "## Task 2\n",
    "### Data set: kddcup.data_10_percent\n",
    "#### Source: http://kdd.ics.uci.edu/databases/kddcup99/kddcup99.html\n",
    "## Objective\n",
    "### Develop an Artificial Neural Network (ANN) in Keras to predict the attack type (namely, values in the last column of the data set). Therefore, it is a multiple classification problem.\n",
    "## Requirements\n",
    "#### (1) Use stratified sampling to get 2/3 data for as training data and 1/3 data as test data.\n",
    "#### (2) You can use Scikit-Learn or other Python libraries for pre-processing and stratified sampling.However, the ANN must be built with the Keras API in TensorFlow.\n",
    "#### (3) The ANN is a Multi-Layer Perceptron where all hidden layers are fully connected (i.e., denselayers).\n",
    "#### (4) The training process includes a hyperparameter fine-tunning step. Define a grid including at leastthree hyperparameters: (a) the number of hidden layers, (b) the number of neurons in each layer, and(c) the regularization parameters for L1 and L2. Each hyperparameter has at least two candidate values. All other parameters (e.g., activation functions and learning rates) are up to you.\n",
    "#### (5) Return the accuracy of testing."
   ]
  },
  {
   "cell_type": "code",
   "execution_count": 1,
   "id": "6d486fd2",
   "metadata": {},
   "outputs": [],
   "source": [
    "# import tensorflow and keras\n",
    "import tensorflow as tf\n",
    "from tensorflow import keras\n",
    "from keras_tuner.tuners import RandomSearch\n",
    "from tensorflow.keras import layers\n",
    "# importing helper library\n",
    "import pandas as pd\n",
    "import numpy as np\n",
    "import matplotlib.pyplot as plt\n",
    "import seaborn as sns"
   ]
  },
  {
   "cell_type": "markdown",
   "id": "650068f8",
   "metadata": {},
   "source": [
    "### Reading and importing dataset kddcup.data as a csv file. Adding the columns into the dataset header and shuffle the dataset"
   ]
  },
  {
   "cell_type": "code",
   "execution_count": 2,
   "id": "4596dbef",
   "metadata": {},
   "outputs": [
    {
     "data": {
      "text/html": [
       "<div>\n",
       "<style scoped>\n",
       "    .dataframe tbody tr th:only-of-type {\n",
       "        vertical-align: middle;\n",
       "    }\n",
       "\n",
       "    .dataframe tbody tr th {\n",
       "        vertical-align: top;\n",
       "    }\n",
       "\n",
       "    .dataframe thead th {\n",
       "        text-align: right;\n",
       "    }\n",
       "</style>\n",
       "<table border=\"1\" class=\"dataframe\">\n",
       "  <thead>\n",
       "    <tr style=\"text-align: right;\">\n",
       "      <th></th>\n",
       "      <th>duration</th>\n",
       "      <th>protocol_type</th>\n",
       "      <th>service</th>\n",
       "      <th>flag</th>\n",
       "      <th>src_bytes</th>\n",
       "      <th>dst_bytes</th>\n",
       "      <th>land</th>\n",
       "      <th>wrong_fragment</th>\n",
       "      <th>urgent</th>\n",
       "      <th>hot</th>\n",
       "      <th>...</th>\n",
       "      <th>dst_host_srv_count</th>\n",
       "      <th>dst_host_same_srv_rate</th>\n",
       "      <th>dst_host_diff_srv_rate</th>\n",
       "      <th>dst_host_same_src_port_rate</th>\n",
       "      <th>dst_host_srv_diff_host_rate</th>\n",
       "      <th>dst_host_serror_rate</th>\n",
       "      <th>dst_host_srv_serror_rate</th>\n",
       "      <th>dst_host_rerror_rate</th>\n",
       "      <th>dst_host_srv_rerror_rate</th>\n",
       "      <th>attack_type</th>\n",
       "    </tr>\n",
       "  </thead>\n",
       "  <tbody>\n",
       "    <tr>\n",
       "      <th>0</th>\n",
       "      <td>0</td>\n",
       "      <td>tcp</td>\n",
       "      <td>http</td>\n",
       "      <td>SF</td>\n",
       "      <td>215</td>\n",
       "      <td>45076</td>\n",
       "      <td>0</td>\n",
       "      <td>0</td>\n",
       "      <td>0</td>\n",
       "      <td>0</td>\n",
       "      <td>...</td>\n",
       "      <td>0</td>\n",
       "      <td>0.0</td>\n",
       "      <td>0.0</td>\n",
       "      <td>0.00</td>\n",
       "      <td>0.0</td>\n",
       "      <td>0.0</td>\n",
       "      <td>0.0</td>\n",
       "      <td>0.0</td>\n",
       "      <td>0.0</td>\n",
       "      <td>normal.</td>\n",
       "    </tr>\n",
       "    <tr>\n",
       "      <th>1</th>\n",
       "      <td>0</td>\n",
       "      <td>tcp</td>\n",
       "      <td>http</td>\n",
       "      <td>SF</td>\n",
       "      <td>162</td>\n",
       "      <td>4528</td>\n",
       "      <td>0</td>\n",
       "      <td>0</td>\n",
       "      <td>0</td>\n",
       "      <td>0</td>\n",
       "      <td>...</td>\n",
       "      <td>1</td>\n",
       "      <td>1.0</td>\n",
       "      <td>0.0</td>\n",
       "      <td>1.00</td>\n",
       "      <td>0.0</td>\n",
       "      <td>0.0</td>\n",
       "      <td>0.0</td>\n",
       "      <td>0.0</td>\n",
       "      <td>0.0</td>\n",
       "      <td>normal.</td>\n",
       "    </tr>\n",
       "    <tr>\n",
       "      <th>2</th>\n",
       "      <td>0</td>\n",
       "      <td>tcp</td>\n",
       "      <td>http</td>\n",
       "      <td>SF</td>\n",
       "      <td>236</td>\n",
       "      <td>1228</td>\n",
       "      <td>0</td>\n",
       "      <td>0</td>\n",
       "      <td>0</td>\n",
       "      <td>0</td>\n",
       "      <td>...</td>\n",
       "      <td>2</td>\n",
       "      <td>1.0</td>\n",
       "      <td>0.0</td>\n",
       "      <td>0.50</td>\n",
       "      <td>0.0</td>\n",
       "      <td>0.0</td>\n",
       "      <td>0.0</td>\n",
       "      <td>0.0</td>\n",
       "      <td>0.0</td>\n",
       "      <td>normal.</td>\n",
       "    </tr>\n",
       "    <tr>\n",
       "      <th>3</th>\n",
       "      <td>0</td>\n",
       "      <td>tcp</td>\n",
       "      <td>http</td>\n",
       "      <td>SF</td>\n",
       "      <td>233</td>\n",
       "      <td>2032</td>\n",
       "      <td>0</td>\n",
       "      <td>0</td>\n",
       "      <td>0</td>\n",
       "      <td>0</td>\n",
       "      <td>...</td>\n",
       "      <td>3</td>\n",
       "      <td>1.0</td>\n",
       "      <td>0.0</td>\n",
       "      <td>0.33</td>\n",
       "      <td>0.0</td>\n",
       "      <td>0.0</td>\n",
       "      <td>0.0</td>\n",
       "      <td>0.0</td>\n",
       "      <td>0.0</td>\n",
       "      <td>normal.</td>\n",
       "    </tr>\n",
       "    <tr>\n",
       "      <th>4</th>\n",
       "      <td>0</td>\n",
       "      <td>tcp</td>\n",
       "      <td>http</td>\n",
       "      <td>SF</td>\n",
       "      <td>239</td>\n",
       "      <td>486</td>\n",
       "      <td>0</td>\n",
       "      <td>0</td>\n",
       "      <td>0</td>\n",
       "      <td>0</td>\n",
       "      <td>...</td>\n",
       "      <td>4</td>\n",
       "      <td>1.0</td>\n",
       "      <td>0.0</td>\n",
       "      <td>0.25</td>\n",
       "      <td>0.0</td>\n",
       "      <td>0.0</td>\n",
       "      <td>0.0</td>\n",
       "      <td>0.0</td>\n",
       "      <td>0.0</td>\n",
       "      <td>normal.</td>\n",
       "    </tr>\n",
       "  </tbody>\n",
       "</table>\n",
       "<p>5 rows × 42 columns</p>\n",
       "</div>"
      ],
      "text/plain": [
       "   duration protocol_type service flag  src_bytes  dst_bytes  land  \\\n",
       "0         0           tcp    http   SF        215      45076     0   \n",
       "1         0           tcp    http   SF        162       4528     0   \n",
       "2         0           tcp    http   SF        236       1228     0   \n",
       "3         0           tcp    http   SF        233       2032     0   \n",
       "4         0           tcp    http   SF        239        486     0   \n",
       "\n",
       "   wrong_fragment  urgent  hot  ...  dst_host_srv_count  \\\n",
       "0               0       0    0  ...                   0   \n",
       "1               0       0    0  ...                   1   \n",
       "2               0       0    0  ...                   2   \n",
       "3               0       0    0  ...                   3   \n",
       "4               0       0    0  ...                   4   \n",
       "\n",
       "   dst_host_same_srv_rate  dst_host_diff_srv_rate  \\\n",
       "0                     0.0                     0.0   \n",
       "1                     1.0                     0.0   \n",
       "2                     1.0                     0.0   \n",
       "3                     1.0                     0.0   \n",
       "4                     1.0                     0.0   \n",
       "\n",
       "   dst_host_same_src_port_rate  dst_host_srv_diff_host_rate  \\\n",
       "0                         0.00                          0.0   \n",
       "1                         1.00                          0.0   \n",
       "2                         0.50                          0.0   \n",
       "3                         0.33                          0.0   \n",
       "4                         0.25                          0.0   \n",
       "\n",
       "   dst_host_serror_rate  dst_host_srv_serror_rate  dst_host_rerror_rate  \\\n",
       "0                   0.0                       0.0                   0.0   \n",
       "1                   0.0                       0.0                   0.0   \n",
       "2                   0.0                       0.0                   0.0   \n",
       "3                   0.0                       0.0                   0.0   \n",
       "4                   0.0                       0.0                   0.0   \n",
       "\n",
       "   dst_host_srv_rerror_rate  attack_type  \n",
       "0                       0.0      normal.  \n",
       "1                       0.0      normal.  \n",
       "2                       0.0      normal.  \n",
       "3                       0.0      normal.  \n",
       "4                       0.0      normal.  \n",
       "\n",
       "[5 rows x 42 columns]"
      ]
     },
     "execution_count": 2,
     "metadata": {},
     "output_type": "execute_result"
    }
   ],
   "source": [
    "columns = [\n",
    "    'duration',\n",
    "    'protocol_type',\n",
    "    'service',\n",
    "    'flag',\n",
    "    'src_bytes',\n",
    "    'dst_bytes',\n",
    "    'land',\n",
    "    'wrong_fragment',\n",
    "    'urgent',\n",
    "    'hot',\n",
    "    'num_failed_logins',\n",
    "    'logged_in',\n",
    "    'num_compromised',\n",
    "    'root_shell',\n",
    "    'su_attempted',\n",
    "    'num_root',\n",
    "    'num_file_creations',\n",
    "    'num_shells',\n",
    "    'num_access_files',\n",
    "    'num_outbound_cmds',\n",
    "    'is_host_login',\n",
    "    'is_guest_login',\n",
    "    'count',\n",
    "    'srv_count',\n",
    "    'serror_rate',\n",
    "    'srv_serror_rate',\n",
    "    'rerror_rate',\n",
    "    'srv_rerror_rate',\n",
    "    'same_srv_rate',\n",
    "    'diff_srv_rate',\n",
    "    'srv_diff_host_rate',\n",
    "    'dst_host_count',\n",
    "    'dst_host_srv_count',\n",
    "    'dst_host_same_srv_rate',\n",
    "    'dst_host_diff_srv_rate',\n",
    "    'dst_host_same_src_port_rate',\n",
    "    'dst_host_srv_diff_host_rate',\n",
    "    'dst_host_serror_rate',\n",
    "    'dst_host_srv_serror_rate',\n",
    "    'dst_host_rerror_rate',\n",
    "    'dst_host_srv_rerror_rate',\n",
    "    'attack_type'\n",
    "]\n",
    "# Set columns to header and import and read data\n",
    "df = pd.read_csv('kddcup.data',header=None,names=columns)\n",
    "# Shuffle the dataset to simulate randomness of data\n",
    "np.random.shuffle(df.values)\n",
    "df.head(5)"
   ]
  },
  {
   "cell_type": "code",
   "execution_count": 3,
   "id": "113215e8",
   "metadata": {},
   "outputs": [],
   "source": [
    "# Get rid of the . in attack_type\n",
    "df['attack_type'] = df.apply(lambda x: x['attack_type'][:-1], axis = 1)"
   ]
  },
  {
   "cell_type": "code",
   "execution_count": 4,
   "id": "386a8c75",
   "metadata": {},
   "outputs": [
    {
     "data": {
      "text/plain": [
       "array(['normal', 'buffer_overflow', 'loadmodule', 'perl', 'neptune',\n",
       "       'smurf', 'guess_passwd', 'pod', 'teardrop', 'portsweep', 'ipsweep',\n",
       "       'land', 'ftp_write', 'back', 'imap', 'satan', 'phf', 'nmap',\n",
       "       'multihop', 'warezmaster', 'warezclient', 'spy', 'rootkit'],\n",
       "      dtype=object)"
      ]
     },
     "execution_count": 4,
     "metadata": {},
     "output_type": "execute_result"
    }
   ],
   "source": [
    "# Get the attack_type unique values\n",
    "df['attack_type'].unique()"
   ]
  },
  {
   "cell_type": "markdown",
   "id": "22ac950e",
   "metadata": {},
   "source": [
    "###  Map the attack_type to different type of intrusion types listed in the KDD CUP 199 Dataset, under data files: training_attack_types\n",
    "\n",
    "#### There are 5 unique intrusion type: normal, dos, u2r, r21, probe"
   ]
  },
  {
   "cell_type": "code",
   "execution_count": 5,
   "id": "6b33f541",
   "metadata": {},
   "outputs": [],
   "source": [
    "df['attack_type'] = df['attack_type'].map({\n",
    "'normal': 'normal',\n",
    "'back': 'dos',\n",
    "'buffer_overflow': 'u2r',\n",
    "'ftp_write': 'r2l',\n",
    "'guess_passwd': 'r2l',\n",
    "'imap': 'r2l',\n",
    "'ipsweep': 'probe',\n",
    "'land': 'dos',\n",
    "'loadmodule': 'u2r',\n",
    "'multihop': 'r2l',\n",
    "'neptune': 'dos',\n",
    "'nmap': 'probe',\n",
    "'perl': 'u2r',\n",
    "'phf': 'r2l',\n",
    "'pod': 'dos',\n",
    "'portsweep': 'probe',\n",
    "'rootkit': 'u2r',\n",
    "'satan': 'probe',\n",
    "'smurf': 'dos',\n",
    "'spy': 'r2l',\n",
    "'teardrop': 'dos',\n",
    "'warezclient': 'r2l',\n",
    "'warezmaster': 'r2l',\n",
    "})"
   ]
  },
  {
   "cell_type": "code",
   "execution_count": 6,
   "id": "ad29de68",
   "metadata": {},
   "outputs": [
    {
     "data": {
      "text/plain": [
       "duration                       0\n",
       "protocol_type                  0\n",
       "service                        0\n",
       "flag                           0\n",
       "src_bytes                      0\n",
       "dst_bytes                      0\n",
       "land                           0\n",
       "wrong_fragment                 0\n",
       "urgent                         0\n",
       "hot                            0\n",
       "num_failed_logins              0\n",
       "logged_in                      0\n",
       "num_compromised                0\n",
       "root_shell                     0\n",
       "su_attempted                   0\n",
       "num_root                       0\n",
       "num_file_creations             0\n",
       "num_shells                     0\n",
       "num_access_files               0\n",
       "num_outbound_cmds              0\n",
       "is_host_login                  0\n",
       "is_guest_login                 0\n",
       "count                          0\n",
       "srv_count                      0\n",
       "serror_rate                    0\n",
       "srv_serror_rate                0\n",
       "rerror_rate                    0\n",
       "srv_rerror_rate                0\n",
       "same_srv_rate                  0\n",
       "diff_srv_rate                  0\n",
       "srv_diff_host_rate             0\n",
       "dst_host_count                 0\n",
       "dst_host_srv_count             0\n",
       "dst_host_same_srv_rate         0\n",
       "dst_host_diff_srv_rate         0\n",
       "dst_host_same_src_port_rate    0\n",
       "dst_host_srv_diff_host_rate    0\n",
       "dst_host_serror_rate           0\n",
       "dst_host_srv_serror_rate       0\n",
       "dst_host_rerror_rate           0\n",
       "dst_host_srv_rerror_rate       0\n",
       "attack_type                    0\n",
       "dtype: int64"
      ]
     },
     "execution_count": 6,
     "metadata": {},
     "output_type": "execute_result"
    }
   ],
   "source": [
    "# Check for null values\n",
    "df.isnull().sum()"
   ]
  },
  {
   "cell_type": "markdown",
   "id": "217b7a7c",
   "metadata": {},
   "source": [
    "### Finding the categorical columns/features for the dataset and plot bar graph to visualise it, and convert it into numeric values.\n",
    "#### As from the from the graph, the 'service' column seems to have too many distinct unique values and only 3 distinct values is worth looking at, hence i would drop it. \n",
    "#### So, after doing the visualising i would map 3 columns('attack_type','protocol_type','flag').\n",
    "\n",
    "\n",
    "#### 'protocol_type': 'tcp':0,'udp':1,'icmp':2\n",
    "#### 'flag':'SF':0,'S2':1,'S1':2,'S3':3,'OTH':4,'REJ':5,'RSTO':6,'S0':7,'RSTR':8,'RSTOS0':9,'SH':10\n",
    "#### 'normal':0,'u2r':1,'dos':2,'r2l':3,'probe':4"
   ]
  },
  {
   "cell_type": "code",
   "execution_count": 7,
   "id": "e3c3e9fe",
   "metadata": {},
   "outputs": [
    {
     "data": {
      "text/plain": [
       "['service', 'flag', 'protocol_type']"
      ]
     },
     "execution_count": 7,
     "metadata": {},
     "output_type": "execute_result"
    }
   ],
   "source": [
    "#Finding categorical features\n",
    "num_cols = df._get_numeric_data().columns\n",
    "\n",
    "cat_cols = list(set(df.columns)-set(num_cols))\n",
    "cat_cols.remove('attack_type')\n",
    "\n",
    "cat_cols"
   ]
  },
  {
   "cell_type": "code",
   "execution_count": 8,
   "id": "531ee8e4",
   "metadata": {},
   "outputs": [],
   "source": [
    "# Function to plot bar_graph for each categorical features\n",
    "def bar_graph(feature):\n",
    "    df[feature].value_counts().plot(kind=\"bar\")"
   ]
  },
  {
   "cell_type": "code",
   "execution_count": 9,
   "id": "76292d7d",
   "metadata": {},
   "outputs": [
    {
     "data": {
      "image/png": "[encoded data removed]",
      "text/plain": [
       "<Figure size 432x288 with 1 Axes>"
      ]
     },
     "metadata": {
      "needs_background": "light"
     },
     "output_type": "display_data"
    }
   ],
   "source": [
    "bar_graph('attack_type')"
   ]
  },
  {
   "cell_type": "code",
   "execution_count": 10,
   "id": "7a82e131",
   "metadata": {},
   "outputs": [
    {
     "data": {
      "image/png": "[encoded data removed]",
      "text/plain": [
       "<Figure size 432x288 with 1 Axes>"
      ]
     },
     "metadata": {
      "needs_background": "light"
     },
     "output_type": "display_data"
    }
   ],
   "source": [
    "bar_graph('protocol_type')"
   ]
  },
  {
   "cell_type": "code",
   "execution_count": 11,
   "id": "f56af8d1",
   "metadata": {},
   "outputs": [
    {
     "data": {
      "image/png": "[encoded data removed]",
      "text/plain": [
       "<Figure size 1080x216 with 1 Axes>"
      ]
     },
     "metadata": {
      "needs_background": "light"
     },
     "output_type": "display_data"
    }
   ],
   "source": [
    "plt.figure(figsize=(15,3))\n",
    "bar_graph('service')"
   ]
  },
  {
   "cell_type": "code",
   "execution_count": 12,
   "id": "29847f06",
   "metadata": {},
   "outputs": [
    {
     "data": {
      "image/png": "[encoded data removed]",
      "text/plain": [
       "<Figure size 432x288 with 1 Axes>"
      ]
     },
     "metadata": {
      "needs_background": "light"
     },
     "output_type": "display_data"
    }
   ],
   "source": [
    "bar_graph('flag')"
   ]
  },
  {
   "cell_type": "code",
   "execution_count": 13,
   "id": "609f5717",
   "metadata": {},
   "outputs": [
    {
     "name": "stdout",
     "output_type": "stream",
     "text": [
      "['tcp' 'udp' 'icmp']\n",
      "['SF' 'S2' 'S1' 'S3' 'OTH' 'REJ' 'RSTO' 'S0' 'RSTR' 'RSTOS0' 'SH']\n",
      "['http' 'smtp' 'domain_u' 'auth' 'finger' 'telnet' 'eco_i' 'ftp' 'ntp_u'\n",
      " 'ecr_i' 'other' 'urp_i' 'private' 'pop_3' 'ftp_data' 'netstat' 'daytime'\n",
      " 'ssh' 'echo' 'time' 'name' 'whois' 'domain' 'mtp' 'gopher' 'remote_job'\n",
      " 'rje' 'ctf' 'supdup' 'link' 'systat' 'discard' 'X11' 'shell' 'login'\n",
      " 'imap4' 'nntp' 'uucp' 'pm_dump' 'IRC' 'Z39_50' 'netbios_dgm' 'ldap'\n",
      " 'sunrpc' 'courier' 'exec' 'bgp' 'csnet_ns' 'http_443' 'klogin' 'printer'\n",
      " 'netbios_ssn' 'pop_2' 'nnsp' 'efs' 'hostnames' 'uucp_path' 'sql_net'\n",
      " 'vmnet' 'iso_tsap' 'netbios_ns' 'kshell' 'urh_i' 'http_2784' 'harvest'\n",
      " 'aol' 'tftp_u' 'http_8001' 'tim_i' 'red_i']\n",
      "['normal' 'u2r' 'dos' 'r2l' 'probe']\n"
     ]
    }
   ],
   "source": [
    "# get unique values of this columns\n",
    "print(df['protocol_type'].unique())\n",
    "print(df['flag'].unique())\n",
    "print(df['service'].unique())\n",
    "print(df['attack_type'].unique())"
   ]
  },
  {
   "cell_type": "code",
   "execution_count": 14,
   "id": "4ebb7a04",
   "metadata": {},
   "outputs": [],
   "source": [
    "# Feature mapping \n",
    "df['protocol_type'] = df['protocol_type'].map({'icmp':0,'tcp':1,'udp':2}).astype(int)\n",
    "df['flag']=df['flag'].map({'SF':0,'S0':1,'REJ':2,'RSTR':3,'RSTO':4,'SH':5,'S1':6,'S2':7,'RSTOS0':8,'OTH':9,'S3':10}).astype(int)\n",
    "df['attack_type']=df['attack_type'].map({'dos':0,'normal':1,'probe':2,'r2l':3,'u2r':4}).astype(int)"
   ]
  },
  {
   "cell_type": "code",
   "execution_count": 15,
   "id": "8f7c6000",
   "metadata": {},
   "outputs": [],
   "source": [
    "# Drop service \n",
    "df.drop('service',axis = 1,inplace= True)"
   ]
  },
  {
   "cell_type": "code",
   "execution_count": 16,
   "id": "b0fb34c3",
   "metadata": {},
   "outputs": [
    {
     "name": "stdout",
     "output_type": "stream",
     "text": [
      "[1 2 0]\n",
      "[ 0  7  6 10  9  2  4  1  3  8  5]\n",
      "[1 4 0 3 2]\n"
     ]
    }
   ],
   "source": [
    "# Look at the new unique values for those 3 columns\n",
    "print(df['protocol_type'].unique())\n",
    "print(df['flag'].unique())\n",
    "print(df['attack_type'].unique())"
   ]
  },
  {
   "cell_type": "markdown",
   "id": "19081093",
   "metadata": {},
   "source": [
    "### Using the pearson method check the correalation for each features excluding attack_type and afterwards drop those features that has a correalation of more than 0.9"
   ]
  },
  {
   "cell_type": "code",
   "execution_count": 17,
   "id": "5c8855c9",
   "metadata": {},
   "outputs": [],
   "source": [
    "# Create a new dataframe df2 where attack_type is drop and the correalation is store in corrDf\n",
    "df2 = df.drop(['attack_type'], axis=1)\n",
    "corrDf=df2.corr(method='pearson')"
   ]
  },
  {
   "cell_type": "code",
   "execution_count": 18,
   "id": "4b89393a",
   "metadata": {},
   "outputs": [
    {
     "name": "stdout",
     "output_type": "stream",
     "text": [
      "11\n",
      "{'srv_rerror_rate', 'srv_count', 'dst_host_same_srv_rate', 'dst_host_serror_rate', 'num_root', 'dst_host_srv_rerror_rate', 'srv_serror_rate', 'dst_host_srv_serror_rate', 'dst_host_srv_count', 'dst_host_rerror_rate', 'dst_host_same_src_port_rate'}\n"
     ]
    }
   ],
   "source": [
    "# Find mutually correalated independent features values that are more than 0.9 by looking through each columns and rows\n",
    "mutually_correlated_features = set() \n",
    "for i in range(len(corrDf.columns)):  \n",
    "    for j in range(i):\n",
    "        if (corrDf.iloc[i, j]) > 0.9:\n",
    "            colname = corrDf.columns[i]\n",
    "\n",
    "            mutually_correlated_features.add(colname)\n",
    "\n",
    "print(len(mutually_correlated_features))\n",
    "print((mutually_correlated_features))"
   ]
  },
  {
   "cell_type": "code",
   "execution_count": 19,
   "id": "3f03cbf3",
   "metadata": {},
   "outputs": [],
   "source": [
    "# Drop those features that has more than 0.9\n",
    "for col in mutually_correlated_features:\n",
    "    if col in df.columns:\n",
    "        del df[col]"
   ]
  },
  {
   "cell_type": "code",
   "execution_count": 20,
   "id": "8e942d95",
   "metadata": {},
   "outputs": [
    {
     "data": {
      "text/plain": [
       "30"
      ]
     },
     "execution_count": 20,
     "metadata": {},
     "output_type": "execute_result"
    }
   ],
   "source": [
    "# New df columns\n",
    "len(df.columns)"
   ]
  },
  {
   "cell_type": "markdown",
   "id": "25d032a2",
   "metadata": {},
   "source": [
    "#### Use StratifiedShuffleSplit from sklearn MLlib and split it into 2/3 for training and 1/3 for test  data.  X is features and y is the target label"
   ]
  },
  {
   "cell_type": "code",
   "execution_count": 21,
   "id": "4bc8406e",
   "metadata": {},
   "outputs": [],
   "source": [
    "y = df[['attack_type']]\n",
    "X = df.drop(['attack_type'], axis=1)\n",
    "\n",
    "from sklearn.model_selection import StratifiedShuffleSplit \n",
    "\n",
    "\n",
    "splitter=StratifiedShuffleSplit(test_size=0.33,random_state=42)\n",
    "\n",
    "for train,test in splitter.split(X,y):    \n",
    "    X_train_SS = X.iloc[train]\n",
    "    y_train_SS = y.iloc[train]\n",
    "    X_test_SS = X.iloc[test]\n",
    "    y_test_SS = y.iloc[test]"
   ]
  },
  {
   "cell_type": "markdown",
   "id": "aa6b3e0a",
   "metadata": {},
   "source": [
    "##### Shows that our training dataset and test dataset is stratified as can be seen that both train train and test have the same split "
   ]
  },
  {
   "cell_type": "code",
   "execution_count": 22,
   "id": "272f1986",
   "metadata": {},
   "outputs": [
    {
     "name": "stdout",
     "output_type": "stream",
     "text": [
      "X_train no. of rows: 3281948\n",
      "X_test no. of rows: 1616483\n",
      "y_train no. of rows: 3281948\n",
      "y_test no. of rows: 1616483\n"
     ]
    }
   ],
   "source": [
    "print(\"X_train no. of rows: \"+ str(len(X_train_SS)))\n",
    "print(\"X_test no. of rows: \"+ str(len(X_test_SS)))\n",
    "print(\"y_train no. of rows: \"+ str(len(y_train_SS)))\n",
    "print(\"y_test no. of rows: \"+ str(len(y_test_SS)))"
   ]
  },
  {
   "cell_type": "markdown",
   "id": "90b20bc3",
   "metadata": {},
   "source": [
    "### Building simple sequential neural network model, for the output layer activation function i use 5 neurons as there is 5 unique values for attack_type and softmax as it is our label is a multi class classification\n",
    "#### As the dataset is huge so i will be using a batch_size of 500, and 10 epochs"
   ]
  },
  {
   "cell_type": "code",
   "execution_count": 23,
   "id": "86733262",
   "metadata": {},
   "outputs": [],
   "source": [
    "model = keras.models.Sequential([\n",
    "keras.layers.Dense(10, kernel_regularizer=keras.regularizers.l2(l=0.2),activation=\"relu\"),\n",
    "keras.layers.Dense(50, kernel_regularizer=keras.regularizers.l2(l=0.2),activation=\"relu\"),\n",
    "keras.layers.Dense(10, kernel_regularizer=keras.regularizers.l2(l=0.2),activation=\"relu\"),\n",
    "keras.layers.Dense(5, kernel_regularizer=keras.regularizers.l2(l=0.2),activation=\"softmax\")\n",
    "])\n",
    "model.compile(loss='sparse_categorical_crossentropy', optimizer='adam',metrics=[\"accuracy\"])"
   ]
  },
  {
   "cell_type": "code",
   "execution_count": 24,
   "id": "af504018",
   "metadata": {},
   "outputs": [
    {
     "name": "stdout",
     "output_type": "stream",
     "text": [
      "Epoch 1/10\n",
      "6564/6564 [==============================] - 6s 868us/step - loss: 4.4583 - accuracy: 0.9827 - val_loss: 1.4202 - val_accuracy: 0.9889\n",
      "Epoch 2/10\n",
      "6564/6564 [==============================] - 5s 803us/step - loss: 0.7172 - accuracy: 0.9885 - val_loss: 0.3095 - val_accuracy: 0.9885\n",
      "Epoch 3/10\n",
      "6564/6564 [==============================] - 5s 822us/step - loss: 0.2296 - accuracy: 0.9866 - val_loss: 0.1870 - val_accuracy: 0.9839\n",
      "Epoch 4/10\n",
      "6564/6564 [==============================] - 5s 811us/step - loss: 0.1855 - accuracy: 0.9856 - val_loss: 0.1848 - val_accuracy: 0.9877\n",
      "Epoch 5/10\n",
      "6564/6564 [==============================] - 5s 800us/step - loss: 0.1847 - accuracy: 0.9853 - val_loss: 0.1840 - val_accuracy: 0.9862\n",
      "Epoch 6/10\n",
      "6564/6564 [==============================] - 5s 801us/step - loss: 0.1840 - accuracy: 0.9852 - val_loss: 0.1835 - val_accuracy: 0.9880\n",
      "Epoch 7/10\n",
      "6564/6564 [==============================] - 5s 805us/step - loss: 0.1838 - accuracy: 0.9851 - val_loss: 0.1845 - val_accuracy: 0.9769\n",
      "Epoch 8/10\n",
      "6564/6564 [==============================] - 5s 804us/step - loss: 0.1831 - accuracy: 0.9850 - val_loss: 0.1827 - val_accuracy: 0.9877\n",
      "Epoch 9/10\n",
      "6564/6564 [==============================] - 5s 798us/step - loss: 0.1829 - accuracy: 0.9850 - val_loss: 0.1824 - val_accuracy: 0.9839\n",
      "Epoch 10/10\n",
      "6564/6564 [==============================] - 5s 802us/step - loss: 0.1828 - accuracy: 0.9849 - val_loss: 0.1827 - val_accuracy: 0.9879\n"
     ]
    },
    {
     "data": {
      "text/plain": [
       "<keras.callbacks.History at 0x234fbd90e50>"
      ]
     },
     "execution_count": 24,
     "metadata": {},
     "output_type": "execute_result"
    }
   ],
   "source": [
    "#running the model\n",
    "model.fit(X_train_SS,y_train_SS,validation_data=(X_test_SS,y_test_SS),batch_size=500,epochs=10)"
   ]
  },
  {
   "cell_type": "markdown",
   "id": "3124fd84",
   "metadata": {},
   "source": [
    "### Defining model for fine tuning, using buildModel function, it returns a compiled model and uses hyperparameters that is define to hypertune the model "
   ]
  },
  {
   "cell_type": "code",
   "execution_count": 25,
   "id": "2aee7bb1",
   "metadata": {},
   "outputs": [],
   "source": [
    "#defining the tuning model\n",
    "def buildModel(hp):\n",
    "    model = keras.Sequential()\n",
    "    for i in range(hp.Int('numLayers', 2, 20)):\n",
    "        model.add(layers.Dense(units=hp.Int('units_' + str(i),\n",
    "                                              min_value=32,\n",
    "                                              max_value=512,\n",
    "                                              step=32),\n",
    "                               kernel_regularizer=keras.regularizers.l2(l=0.2),\n",
    "                               activation='relu'))\n",
    "        \n",
    "    model.add(layers.Dense(5, activation='softmax'))\n",
    "    \n",
    "    model.compile(\n",
    "        optimizer=keras.optimizers.Adam(\n",
    "            hp.Choice('learning_rate', [1e-2, 1e-4])),\n",
    "            loss = 'sparse_categorical_crossentropy',\n",
    "            metrics=['accuracy']\n",
    "    )\n",
    "    return model"
   ]
  },
  {
   "cell_type": "code",
   "execution_count": 26,
   "id": "14907bf3",
   "metadata": {},
   "outputs": [],
   "source": [
    "tuner = RandomSearch(\n",
    "    buildModel,\n",
    "    objective = 'val_accuracy',\n",
    "    max_trials = 5,\n",
    "    executions_per_trial = 2,\n",
    "    directory = 'csci316indiv2',\n",
    "    project_name = 'task2',\n",
    "    overwrite=True\n",
    ")"
   ]
  },
  {
   "cell_type": "code",
   "execution_count": 27,
   "id": "2cd5a78f",
   "metadata": {},
   "outputs": [
    {
     "name": "stdout",
     "output_type": "stream",
     "text": [
      "Search space summary\n",
      "Default search space size: 4\n",
      "numLayers (Int)\n",
      "{'default': None, 'conditions': [], 'min_value': 2, 'max_value': 20, 'step': 1, 'sampling': None}\n",
      "units_0 (Int)\n",
      "{'default': None, 'conditions': [], 'min_value': 32, 'max_value': 512, 'step': 32, 'sampling': None}\n",
      "units_1 (Int)\n",
      "{'default': None, 'conditions': [], 'min_value': 32, 'max_value': 512, 'step': 32, 'sampling': None}\n",
      "learning_rate (Choice)\n",
      "{'default': 0.01, 'conditions': [], 'values': [0.01, 0.0001], 'ordered': True}\n"
     ]
    }
   ],
   "source": [
    "tuner.search_space_summary()"
   ]
  },
  {
   "cell_type": "code",
   "execution_count": 28,
   "id": "7b180a73",
   "metadata": {},
   "outputs": [
    {
     "name": "stdout",
     "output_type": "stream",
     "text": [
      "Trial 5 Complete [00h 06m 22s]\n",
      "val_accuracy: 0.9916707873344421\n",
      "\n",
      "Best val_accuracy So Far: 0.9916707873344421\n",
      "Total elapsed time: 00h 58m 11s\n",
      "INFO:tensorflow:Oracle triggered exit\n"
     ]
    }
   ],
   "source": [
    "tuner.search(X_train_SS, y_train_SS,\n",
    "            batch_size=500,epochs=10,\n",
    "            validation_data = (X_test_SS, y_test_SS))"
   ]
  },
  {
   "cell_type": "markdown",
   "id": "816d380d",
   "metadata": {},
   "source": [
    "### Below shows the result summary\n",
    "#### The best score gotten was 0.9916707873344421 which the best number of layers use is 4 ,  best units : \n",
    "##### units_0: 448, units_1: 128, units_2: 64, units_3: 352, units_4: 192, units_5: 352, units_6: 416, units_7: 384, units_8: 320, units_9: 160, units_10: 288\n",
    "\n"
   ]
  },
  {
   "cell_type": "code",
   "execution_count": 29,
   "id": "cce64d85",
   "metadata": {},
   "outputs": [
    {
     "name": "stdout",
     "output_type": "stream",
     "text": [
      "Results summary\n",
      "Results in csci316indiv2\\task2\n",
      "Showing 10 best trials\n",
      "Objective(name='val_accuracy', direction='max')\n",
      "Trial summary\n",
      "Hyperparameters:\n",
      "numLayers: 4\n",
      "units_0: 448\n",
      "units_1: 128\n",
      "learning_rate: 0.01\n",
      "units_2: 64\n",
      "units_3: 352\n",
      "units_4: 192\n",
      "units_5: 352\n",
      "units_6: 416\n",
      "units_7: 384\n",
      "units_8: 320\n",
      "units_9: 160\n",
      "units_10: 288\n",
      "Score: 0.9916707873344421\n",
      "Trial summary\n",
      "Hyperparameters:\n",
      "numLayers: 4\n",
      "units_0: 352\n",
      "units_1: 192\n",
      "learning_rate: 0.01\n",
      "units_2: 64\n",
      "units_3: 448\n",
      "units_4: 384\n",
      "units_5: 384\n",
      "units_6: 64\n",
      "units_7: 480\n",
      "units_8: 480\n",
      "units_9: 416\n",
      "units_10: 512\n",
      "Score: 0.9900787770748138\n",
      "Trial summary\n",
      "Hyperparameters:\n",
      "numLayers: 8\n",
      "units_0: 192\n",
      "units_1: 256\n",
      "learning_rate: 0.0001\n",
      "units_2: 32\n",
      "units_3: 32\n",
      "units_4: 32\n",
      "units_5: 32\n",
      "units_6: 32\n",
      "units_7: 32\n",
      "Score: 0.9892164170742035\n",
      "Trial summary\n",
      "Hyperparameters:\n",
      "numLayers: 8\n",
      "units_0: 384\n",
      "units_1: 288\n",
      "learning_rate: 0.01\n",
      "units_2: 288\n",
      "units_3: 288\n",
      "units_4: 160\n",
      "units_5: 288\n",
      "units_6: 64\n",
      "units_7: 320\n",
      "units_8: 288\n",
      "units_9: 320\n",
      "units_10: 96\n",
      "Score: 0.88441202044487\n",
      "Trial summary\n",
      "Hyperparameters:\n",
      "numLayers: 11\n",
      "units_0: 128\n",
      "units_1: 384\n",
      "learning_rate: 0.01\n",
      "units_2: 64\n",
      "units_3: 192\n",
      "units_4: 384\n",
      "units_5: 480\n",
      "units_6: 384\n",
      "units_7: 352\n",
      "units_8: 32\n",
      "units_9: 32\n",
      "units_10: 32\n",
      "Score: 0.792778491973877\n"
     ]
    }
   ],
   "source": [
    "tuner.results_summary()"
   ]
  }
 ],
 "metadata": {
  "kernelspec": {
   "display_name": "Python 3 (ipykernel)",
   "language": "python",
   "name": "python3"
  },
  "language_info": {
   "codemirror_mode": {
    "name": "ipython",
    "version": 3
   },
   "file_extension": ".py",
   "mimetype": "text/x-python",
   "name": "python",
   "nbconvert_exporter": "python",
   "pygments_lexer": "ipython3",
   "version": "3.8.8"
  }
 },
 "nbformat": 4,
 "nbformat_minor": 5
}
